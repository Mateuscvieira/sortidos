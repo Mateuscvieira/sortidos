{
 "cells": [
  {
   "cell_type": "code",
   "execution_count": null,
   "metadata": {},
   "outputs": [],
   "source": [
    "#importando bibliotecas\n",
    "from nltk import FreqDist\n",
    "from random import randrange\n",
    "from unidecode import unidecode\n",
    "\n",
    "\n",
    "# Começando com as duas listas da dificuldade:\n",
    "palavras_dificeis = []\n",
    "palavras_faceis = ['amor', 'porta', 'copo', 'caneca']\n",
    "stopwords = nltk.corpus.stopwords.words('portuguese')\n",
    "\n",
    "\n",
    "# Agora o jogo em si:\n",
    "palavra = []\n",
    "dificuldade = input('Select your difficulty(easy or hard): ')\n",
    "vidas = 6\n",
    "\n",
    "if dificuldade.lower() == 'easy':  # FAZENDO AS DIFICULDADES\n",
    "    palavra_selecionada = palavras_faceis[randrange(len(palavras_faceis))]\n",
    "    palavra = list(palavra_selecionada.lower())\n",
    "elif dificuldade.lower() == 'hard':\n",
    "    palavra_selecionada = palavras_dificeis[randrange(len(palavras_dificeis))]\n",
    "    palavra = list(palavra_selecionada.lower())\n",
    "\n",
    "user = [] #AQUI SERÃO AS LETRAS QUE O USUÁRIO COLOCAR\n",
    "print('A palavra tem {} letras'.format(len(palavra)))\n",
    "\n",
    "\n",
    "while True:  #LOOP PRINCIPAL DO JOGO\n",
    "    for i in palavra: #PALAVRA SENDO PREENCHIDA\n",
    "        if i in user:\n",
    "            print(i, end=\" \")\n",
    "        else:\n",
    "            print('_', end=\" \")\n",
    "    entrada = input('\\nColoque uma letra (digite \"quit\" para sair): ')\n",
    "    if entrada.lower() != 'quit':\n",
    "        user.append(entrada.lower())\n",
    "    else:\n",
    "        break\n",
    "\n",
    "    if entrada.lower() in palavra:      #FEEDBACK PRO JOGADOR SE ACERTOU OU NÃO\n",
    "        print('Você acertou uma letra!')\n",
    "    else:\n",
    "        print('Você errou uma letra!')\n",
    "        vidas -= 1\n",
    "        print('Você tem mais {} vidas'.format(str(vidas)))\n",
    "        del user[-1]\n",
    "\n",
    "    if set(user) == set(palavra):   #CASO GANHE\n",
    "        print('Você venceu!')\n",
    "        print('A palavra é {}!'.format(palavra_selecionada.upper()))\n",
    "        break\n",
    "\n",
    "    if vidas == 0:     #CASO PERCA\n",
    "        print('Você perdeu :(')\n",
    "        x = input('Deseja tentar de novo? (Sim ou não)')\n",
    "        if x.lower() == 'sim' or x.lower() == 's':\n",
    "            vidas = 6\n",
    "        elif x.lower() == 'não' or x.lower() == 'nao' or x.lower() == 'n':\n",
    "            print('Te vejo na próxima!')\n",
    "            break\n",
    "        else:\n",
    "            print('Vou assumir que isso é um não')\n",
    "            break"
   ]
  },
  {
   "cell_type": "code",
   "execution_count": 2,
   "metadata": {},
   "outputs": [
    {
     "name": "stdout",
     "output_type": "stream",
     "text": [
      "['g', 'o', 'l']\n"
     ]
    }
   ],
   "source": []
  },
  {
   "cell_type": "code",
   "execution_count": null,
   "metadata": {},
   "outputs": [],
   "source": []
  }
 ],
 "metadata": {
  "kernelspec": {
   "display_name": "Python 3",
   "language": "python",
   "name": "python3"
  },
  "language_info": {
   "codemirror_mode": {
    "name": "ipython",
    "version": 3
   },
   "file_extension": ".py",
   "mimetype": "text/x-python",
   "name": "python",
   "nbconvert_exporter": "python",
   "pygments_lexer": "ipython3",
   "version": "3.7.3"
  }
 },
 "nbformat": 4,
 "nbformat_minor": 2
}
